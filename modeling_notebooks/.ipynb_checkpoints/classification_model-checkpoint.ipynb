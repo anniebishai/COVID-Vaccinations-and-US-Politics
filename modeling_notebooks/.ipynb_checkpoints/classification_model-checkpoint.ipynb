{
 "cells": [
  {
   "cell_type": "code",
   "execution_count": 1,
   "id": "ad578836-b25c-420f-80d0-de5b9dbd4e67",
   "metadata": {},
   "outputs": [],
   "source": [
    "import pandas as pd\n",
    "import numpy as np\n",
    "import seaborn as sns\n",
    "import matplotlib.pyplot as plt\n",
    "from sklearn.preprocessing import StandardScaler, PolynomialFeatures\n",
    "from sklearn.linear_model import LogisticRegression, RidgeClassifier\n",
    "from sklearn.model_selection import train_test_split, cross_val_score, GridSearchCV, RandomizedSearchCV\n",
    "from sklearn.metrics import confusion_matrix, plot_confusion_matrix, accuracy_score, recall_score, precision_score, f1_score\n",
    "from sklearn.ensemble import RandomForestClassifier\n",
    "from sklearn.neighbors import KNeighborsClassifier\n",
    "from sklearn.linear_model import LinearRegression, LassoCV\n",
    "from sklearn.ensemble import BaggingClassifier, StackingClassifier\n",
    "from sklearn.pipeline import make_pipeline\n",
    "\n",
    "pd.set_option('display.max_columns', 500)"
   ]
  },
  {
   "cell_type": "code",
   "execution_count": 2,
   "id": "d725ef71-0145-43be-ac8e-dfd48e12b535",
   "metadata": {},
   "outputs": [
    {
     "data": {
      "text/plain": [
       "(3138, 36)"
      ]
     },
     "execution_count": 2,
     "metadata": {},
     "output_type": "execute_result"
    }
   ],
   "source": [
    "df = pd.read_csv('../clean_data/final_data_formodeling.csv') \n",
    "df.shape"
   ]
  },
  {
   "cell_type": "code",
   "execution_count": 3,
   "id": "de00efdf-e23c-4815-887f-0ab8e7df3a02",
   "metadata": {},
   "outputs": [
    {
     "data": {
      "text/plain": [
       "Unnamed: 0                               0\n",
       "County_State                             0\n",
       "Pct_Hesitant_Feb22                       0\n",
       "Pct_Somewhat_Hesitant_Feb22              0\n",
       "Pct_Highly_Hesitant_Feb22                0\n",
       "Pct_Uninsured                            0\n",
       "SVI_Socio                                0\n",
       "SVI_HHDisab                              0\n",
       "SVI_Minority                             0\n",
       "SVI_HousingTransp                        0\n",
       "SVI_Overall                              0\n",
       "Dose1_Pop_Pct_030121                     0\n",
       "Series_Complete_Pop_Pct_030121           0\n",
       "Dose1_Pop_Pct_090121                     0\n",
       "Series_Complete_Pop_Pct_090121           0\n",
       "Dose1_Pop_Pct_030122                     0\n",
       "Series_Complete_Pop_Pct_030122           0\n",
       "Booster_Doses_Vax_Pct_030122             0\n",
       "SVI_Ctgy                                 0\n",
       "Metro_Status                             0\n",
       "Census2019                               0\n",
       "Census2019_65PlusPop                     0\n",
       "Census2019_18to64Pop                     0\n",
       "State                                    0\n",
       "Candidate_Won                            0\n",
       "Pct_Trump                                0\n",
       "Pct_Biden                                0\n",
       "Hesitant_nzip                            0\n",
       "Somewhat_Hesitant_nzip                   0\n",
       "Highly_Hesitant_nzip                     0\n",
       "Census2019_Pct_65Plus                    0\n",
       "Missing_March21                          0\n",
       "Missing_Sept21                           0\n",
       "Missing_March22                          0\n",
       "Dose1_Pop_Pct_090121_impute              0\n",
       "Series_Complete_Pop_Pct_090121_impute    0\n",
       "dtype: int64"
      ]
     },
     "execution_count": 3,
     "metadata": {},
     "output_type": "execute_result"
    }
   ],
   "source": [
    "df.isnull().sum()"
   ]
  },
  {
   "cell_type": "code",
   "execution_count": 4,
   "id": "cbe8ae7e-28f3-44e9-985f-7214bd2c1f7d",
   "metadata": {},
   "outputs": [
    {
     "data": {
      "text/plain": [
       "Unnamed: 0                               0\n",
       "County_State                             0\n",
       "Pct_Hesitant_Feb22                       0\n",
       "Pct_Somewhat_Hesitant_Feb22              0\n",
       "Pct_Highly_Hesitant_Feb22                0\n",
       "Pct_Uninsured                            0\n",
       "SVI_Socio                                0\n",
       "SVI_HHDisab                              0\n",
       "SVI_Minority                             0\n",
       "SVI_HousingTransp                        0\n",
       "SVI_Overall                              0\n",
       "Dose1_Pop_Pct_030121                     0\n",
       "Series_Complete_Pop_Pct_030121           0\n",
       "Dose1_Pop_Pct_090121                     0\n",
       "Series_Complete_Pop_Pct_090121           0\n",
       "Dose1_Pop_Pct_030122                     0\n",
       "Series_Complete_Pop_Pct_030122           0\n",
       "Booster_Doses_Vax_Pct_030122             0\n",
       "SVI_Ctgy                                 0\n",
       "Metro_Status                             0\n",
       "Census2019                               0\n",
       "Census2019_65PlusPop                     0\n",
       "Census2019_18to64Pop                     0\n",
       "State                                    0\n",
       "Candidate_Won                            0\n",
       "Pct_Trump                                0\n",
       "Pct_Biden                                0\n",
       "Hesitant_nzip                            0\n",
       "Somewhat_Hesitant_nzip                   0\n",
       "Highly_Hesitant_nzip                     0\n",
       "Census2019_Pct_65Plus                    0\n",
       "Missing_March21                          0\n",
       "Missing_Sept21                           0\n",
       "Missing_March22                          0\n",
       "Dose1_Pop_Pct_090121_impute              0\n",
       "Series_Complete_Pop_Pct_090121_impute    0\n",
       "dtype: int64"
      ]
     },
     "execution_count": 4,
     "metadata": {},
     "output_type": "execute_result"
    }
   ],
   "source": [
    "# Check for nulls\n",
    "df.isnull().sum()"
   ]
  },
  {
   "cell_type": "code",
   "execution_count": 5,
   "id": "6cb40f48-950b-41ef-8a65-47e086cca3f0",
   "metadata": {},
   "outputs": [
    {
     "data": {
      "text/plain": [
       "Unnamed: 0                                 int64\n",
       "County_State                              object\n",
       "Pct_Hesitant_Feb22                       float64\n",
       "Pct_Somewhat_Hesitant_Feb22              float64\n",
       "Pct_Highly_Hesitant_Feb22                float64\n",
       "Pct_Uninsured                            float64\n",
       "SVI_Socio                                float64\n",
       "SVI_HHDisab                              float64\n",
       "SVI_Minority                             float64\n",
       "SVI_HousingTransp                        float64\n",
       "SVI_Overall                              float64\n",
       "Dose1_Pop_Pct_030121                     float64\n",
       "Series_Complete_Pop_Pct_030121           float64\n",
       "Dose1_Pop_Pct_090121                     float64\n",
       "Series_Complete_Pop_Pct_090121           float64\n",
       "Dose1_Pop_Pct_030122                     float64\n",
       "Series_Complete_Pop_Pct_030122           float64\n",
       "Booster_Doses_Vax_Pct_030122             float64\n",
       "SVI_Ctgy                                 float64\n",
       "Metro_Status                             float64\n",
       "Census2019                               float64\n",
       "Census2019_65PlusPop                     float64\n",
       "Census2019_18to64Pop                     float64\n",
       "State                                     object\n",
       "Candidate_Won                            float64\n",
       "Pct_Trump                                float64\n",
       "Pct_Biden                                float64\n",
       "Hesitant_nzip                            float64\n",
       "Somewhat_Hesitant_nzip                   float64\n",
       "Highly_Hesitant_nzip                     float64\n",
       "Census2019_Pct_65Plus                    float64\n",
       "Missing_March21                            int64\n",
       "Missing_Sept21                             int64\n",
       "Missing_March22                            int64\n",
       "Dose1_Pop_Pct_090121_impute              float64\n",
       "Series_Complete_Pop_Pct_090121_impute    float64\n",
       "dtype: object"
      ]
     },
     "execution_count": 5,
     "metadata": {},
     "output_type": "execute_result"
    }
   ],
   "source": [
    "df.dtypes"
   ]
  },
  {
   "cell_type": "markdown",
   "id": "3176d6b4-709a-4365-86d4-ca78063f9c2b",
   "metadata": {},
   "source": [
    "\n",
    "### Logistic Regression using only covid-relevant stats, to predict `candidate_won`."
   ]
  },
  {
   "cell_type": "markdown",
   "id": "2250f9f0-1ae6-48bc-8988-ddebc3746424",
   "metadata": {},
   "source": [
    "#### Baseline Model predicts 1.0 (Trump) wins each time and is 83.1% accurate"
   ]
  },
  {
   "cell_type": "code",
   "execution_count": null,
   "id": "6222521f-a53e-4747-a9f2-725c48714274",
   "metadata": {},
   "outputs": [],
   "source": [
    "df['Candidate_Won'].value_counts(normalize = True)"
   ]
  },
  {
   "cell_type": "code",
   "execution_count": null,
   "id": "3395bdbb-b43c-4fb5-83ae-485dafcf16e0",
   "metadata": {},
   "outputs": [],
   "source": [
    "# Set X and y\n",
    "X = df[['Pct_Hesitant_Feb22', 'Pct_Somewhat_Hesitant_Feb22', 'Pct_Highly_Hesitant_Feb22', \n",
    "        'Dose1_Pop_Pct_030121', 'Dose1_Pop_Pct_030122', 'Dose1_Pop_Pct_090121_impute',\n",
    "        'Series_Complete_Pop_Pct_030121', 'Series_Complete_Pop_Pct_090121', 'Series_Complete_Pop_Pct_030122',\n",
    "        'Booster_Doses_Vax_Pct_030122', 'Census2019_Pct_65Plus', 'SVI_Ctgy']]\n",
    "y = df['Candidate_Won']\n",
    "\n",
    "# split data into training data and testing data\n",
    "X_train, X_test, y_train, y_test = train_test_split(X, y, random_state = 33)"
   ]
  },
  {
   "cell_type": "code",
   "execution_count": null,
   "id": "14d069e1-26a1-44ab-a16d-d28f99aa6b12",
   "metadata": {},
   "outputs": [],
   "source": [
    "X.head(3)"
   ]
  },
  {
   "cell_type": "code",
   "execution_count": null,
   "id": "e874fd83-7738-4959-ac05-0530e21e5441",
   "metadata": {},
   "outputs": [],
   "source": [
    "logreg = LogisticRegression(max_iter= 999)\n",
    "logreg.fit(X_train, y_train)"
   ]
  },
  {
   "cell_type": "code",
   "execution_count": null,
   "id": "932f9cf5-8c43-41b1-946c-a2b622231a1f",
   "metadata": {},
   "outputs": [],
   "source": [
    "train_score = logreg.score(X_train, y_train) \n",
    "test_score = logreg.score(X_test, y_test) \n",
    "crossvalscore = cross_val_score(logreg, X_train, y_train).mean() \n",
    "\n",
    "print(f'logreg train score is {train_score}')\n",
    "print(f'logreg test score is {test_score}')\n",
    "print(f'logreg cross val score mean is {crossvalscore}')"
   ]
  },
  {
   "cell_type": "code",
   "execution_count": null,
   "id": "1748137b-8454-4449-a7df-441e7ee76d73",
   "metadata": {},
   "outputs": [],
   "source": [
    "preds_test = logreg.predict(X_test)\n",
    "\n",
    "confusion_matrix(y_test, # True values.\n",
    "                 preds_test)  # Predicted values.\n",
    "\n",
    "plot_confusion_matrix(logreg, X_test, y_test, cmap='Blues', \n",
    "                      values_format='d');"
   ]
  },
  {
   "cell_type": "code",
   "execution_count": null,
   "id": "8e2e79e2-2912-48d7-b91b-c8cad00c274f",
   "metadata": {},
   "outputs": [],
   "source": [
    "accuracy_score(y_test, preds_test)"
   ]
  },
  {
   "cell_type": "code",
   "execution_count": null,
   "id": "7e186cc1-9b29-4b37-b294-2427d4c6614c",
   "metadata": {},
   "outputs": [],
   "source": [
    "X.columns"
   ]
  },
  {
   "cell_type": "code",
   "execution_count": null,
   "id": "f690729f-9ad8-46a1-b94b-bf9359b77709",
   "metadata": {},
   "outputs": [],
   "source": [
    "pd.DataFrame(logreg.coef_)"
   ]
  },
  {
   "cell_type": "markdown",
   "id": "cf08943a-11f0-4346-a7f2-821069941400",
   "metadata": {},
   "source": [
    "### Random Forest Classifier"
   ]
  },
  {
   "cell_type": "code",
   "execution_count": null,
   "id": "6dd520e3-0d29-42d0-933a-e296c8ba0ea0",
   "metadata": {},
   "outputs": [],
   "source": [
    "rf = RandomForestClassifier()\n",
    "\n",
    "rf_params = {\n",
    "    'n_estimators': [20, 40, 50, 100],\n",
    "    'max_depth': [None, 1, 2, 3, 4, 5],\n",
    "    'min_samples_split': [2,3]\n",
    "    \n",
    "}\n",
    "gs = GridSearchCV(rf, param_grid=rf_params, cv=5)\n",
    "gs.fit(X_train, y_train)\n",
    "print(gs.best_score_)\n",
    "gs.best_params_"
   ]
  },
  {
   "cell_type": "markdown",
   "id": "bc87fb74-597b-4917-85e6-a1006b364bd6",
   "metadata": {},
   "source": [
    "89.2% accurate, 6% better than baseline model "
   ]
  },
  {
   "cell_type": "code",
   "execution_count": null,
   "id": "e25b7c3b-a32e-4026-8219-fe71b607b4be",
   "metadata": {},
   "outputs": [],
   "source": [
    "train_score = gs.score(X_train, y_train) \n",
    "test_score = gs.score(X_test, y_test) \n",
    "crossvalscore= cross_val_score(gs, X_train, y_train).mean() \n",
    "\n",
    "print(f'rf train score is {train_score}')\n",
    "print(f'rf test score is {test_score}')\n",
    "print(f'rf cross val score mean is {crossvalscore}')"
   ]
  },
  {
   "cell_type": "markdown",
   "id": "c768a05f-8673-416f-ad5b-c7c1e192c1d1",
   "metadata": {},
   "source": [
    "Random Forest results: 5.6% more accurate than the baseline model.  No different really than Logreg.  Can we improve with Stacking with multiple classifier models?"
   ]
  },
  {
   "cell_type": "markdown",
   "id": "d33cae7b-b51a-4a9a-92e0-920a59aed70f",
   "metadata": {},
   "source": [
    "#### Stacking"
   ]
  },
  {
   "cell_type": "code",
   "execution_count": null,
   "id": "0821de4c-2eb8-4860-8d4e-370712e6bbc0",
   "metadata": {},
   "outputs": [],
   "source": [
    "estimators = [('rf', RandomForestClassifier(n_estimators=10, random_state=42)),\n",
    "              ('knn', make_pipeline(StandardScaler(),KNeighborsClassifier())),\n",
    "             ('bag', BaggingClassifier()),\n",
    "             ('ridge', make_pipeline(StandardScaler(),RidgeClassifier()))]\n",
    "\n",
    "stack = StackingClassifier(estimators=estimators, final_estimator = LogisticRegression())"
   ]
  },
  {
   "cell_type": "code",
   "execution_count": null,
   "id": "a4663552-5b2b-4e67-a6e4-64b4acf07961",
   "metadata": {},
   "outputs": [],
   "source": [
    "stack.fit(X_train, y_train)\n",
    "stack.score(X_train, y_train), stack.score(X_test, y_test), cross_val_score(stack, X_train, y_train).mean()"
   ]
  },
  {
   "cell_type": "code",
   "execution_count": null,
   "id": "9c3b5237-b9f3-4715-9a40-376a4171cf0f",
   "metadata": {},
   "outputs": [],
   "source": [
    "stack_preds_test = stack.predict(X_test)\n",
    "\n",
    "confusion_matrix(y_test, # True values.\n",
    "                 stack_preds_test)  # Predicted values.\n",
    "\n",
    "plot_confusion_matrix(stack, X_test, y_test, cmap='Blues', \n",
    "                      values_format='d')\n",
    "plt.title('Confusion Matrix for Stacking Model')\n",
    "plt.savefig('./PNGs/classification_conf_matrix.png');"
   ]
  },
  {
   "cell_type": "markdown",
   "id": "461b32c0-ed50-402f-bb13-a417e1d9c12d",
   "metadata": {},
   "source": [
    "Stacking results: 90.3 accuracy! Some improvement and now 7.2% better than the baseline model.  Would throwing more features in via polynomials improve the model?"
   ]
  },
  {
   "cell_type": "markdown",
   "id": "c165801a-588f-4f42-b0cf-ef727a53a9e4",
   "metadata": {},
   "source": [
    "#### Stacking, with polynomial features"
   ]
  },
  {
   "cell_type": "code",
   "execution_count": null,
   "id": "e491e73c-f998-4f7b-8c2b-cac57b7afe2d",
   "metadata": {},
   "outputs": [],
   "source": [
    "poly = PolynomialFeatures(include_bias=False)\n",
    "X_poly = poly.fit_transform(X)\n",
    "X_train, X_test, y_train, y_test =train_test_split(X_poly, y, random_state = 33)"
   ]
  },
  {
   "cell_type": "code",
   "execution_count": null,
   "id": "4e3b9c67-3a83-4855-9fbb-5ecf4ceb9168",
   "metadata": {},
   "outputs": [],
   "source": [
    "estimators = [('rf', RandomForestClassifier()),\n",
    "              ('knn', make_pipeline(StandardScaler(),KNeighborsClassifier())),\n",
    "             ('bag', BaggingClassifier()),\n",
    "             ('ridge', make_pipeline(StandardScaler(),RidgeClassifier()))]\n",
    "\n",
    "stack = StackingClassifier(estimators=estimators, final_estimator = LogisticRegression())"
   ]
  },
  {
   "cell_type": "code",
   "execution_count": null,
   "id": "a595903e-c3dd-4556-8bf9-0d852171a64e",
   "metadata": {},
   "outputs": [],
   "source": [
    "stack.fit(X_train, y_train)\n",
    "stack.score(X_train, y_train), stack.score(X_test, y_test), cross_val_score(stack, X_train, y_train).mean()"
   ]
  },
  {
   "cell_type": "code",
   "execution_count": null,
   "id": "32bdb820-4399-4b52-8f88-631e1b5c5076",
   "metadata": {},
   "outputs": [],
   "source": [
    "Stacking w/ polynomials results: actually a slight dip in performance.  Stick with previous stacking model without polynomials."
   ]
  },
  {
   "cell_type": "markdown",
   "id": "f1fd2931-e146-4b17-b3ed-7d7506b869ce",
   "metadata": {},
   "source": [
    "#### Results: best classification model was using Stacking.  That model had 90.3% accuracy, about 7% better than the baseline model."
   ]
  }
 ],
 "metadata": {
  "kernelspec": {
   "display_name": "Python 3 (ipykernel)",
   "language": "python",
   "name": "python3"
  },
  "language_info": {
   "codemirror_mode": {
    "name": "ipython",
    "version": 3
   },
   "file_extension": ".py",
   "mimetype": "text/x-python",
   "name": "python",
   "nbconvert_exporter": "python",
   "pygments_lexer": "ipython3",
   "version": "3.9.7"
  }
 },
 "nbformat": 4,
 "nbformat_minor": 5
}
